{
 "cells": [
  {
   "cell_type": "code",
   "execution_count": 20,
   "metadata": {},
   "outputs": [],
   "source": [
    "%matplotlib inline\n",
    "from matplotlib import style\n",
    "style.use('fivethirtyeight')\n",
    "import matplotlib.pyplot as plt"
   ]
  },
  {
   "cell_type": "code",
   "execution_count": 21,
   "metadata": {},
   "outputs": [],
   "source": [
    "import numpy as np\n",
    "import pandas as pd"
   ]
  },
  {
   "cell_type": "code",
   "execution_count": 22,
   "metadata": {},
   "outputs": [],
   "source": [
    "import datetime as dt"
   ]
  },
  {
   "cell_type": "markdown",
   "metadata": {},
   "source": [
    "# Reflect Tables into SQLAlchemy ORM"
   ]
  },
  {
   "cell_type": "code",
   "execution_count": 23,
   "metadata": {},
   "outputs": [],
   "source": [
    "# Python SQL toolkit and Object Relational Mapper\n",
    "import sqlalchemy\n",
    "from sqlalchemy.ext.automap import automap_base\n",
    "from sqlalchemy.orm import Session\n",
    "from sqlalchemy import create_engine, func, inspect"
   ]
  },
  {
   "cell_type": "code",
   "execution_count": 24,
   "metadata": {},
   "outputs": [],
   "source": [
    "engine = create_engine(\"sqlite:///Resources/hawaii.sqlite\")"
   ]
  },
  {
   "cell_type": "code",
   "execution_count": 25,
   "metadata": {},
   "outputs": [
    {
     "data": {
      "text/plain": [
       "['measurement', 'station']"
      ]
     },
     "execution_count": 25,
     "metadata": {},
     "output_type": "execute_result"
    }
   ],
   "source": [
    "inspector = inspect(engine)\n",
    "inspector.get_table_names()"
   ]
  },
  {
   "cell_type": "code",
   "execution_count": 26,
   "metadata": {},
   "outputs": [
    {
     "name": "stdout",
     "output_type": "stream",
     "text": [
      "id INTEGER\n",
      "station TEXT\n",
      "date TEXT\n",
      "prcp FLOAT\n",
      "tobs FLOAT\n"
     ]
    }
   ],
   "source": [
    "# Inspector to print the column names and types\n",
    "columns = inspector.get_columns('measurement')\n",
    "for c in columns:\n",
    "    print(c['name'], c[\"type\"])"
   ]
  },
  {
   "cell_type": "code",
   "execution_count": 27,
   "metadata": {},
   "outputs": [
    {
     "data": {
      "text/plain": [
       "[(1, 'USC00519397', '2010-01-01', 0.08, 65.0),\n",
       " (2, 'USC00519397', '2010-01-02', 0.0, 63.0),\n",
       " (3, 'USC00519397', '2010-01-03', 0.0, 74.0),\n",
       " (4, 'USC00519397', '2010-01-04', 0.0, 76.0),\n",
       " (5, 'USC00519397', '2010-01-06', None, 73.0)]"
      ]
     },
     "execution_count": 27,
     "metadata": {},
     "output_type": "execute_result"
    }
   ],
   "source": [
    "# select and display the first 5 rows from the measurement table\n",
    "engine.execute('SELECT * FROM measurement LIMIT 5').fetchall()"
   ]
  },
  {
   "cell_type": "code",
   "execution_count": 28,
   "metadata": {},
   "outputs": [],
   "source": [
    "# reflect an existing database into a new model\n",
    "Base = automap_base()\n",
    "# reflect the tables\n",
    "Base.prepare(engine, reflect=True)"
   ]
  },
  {
   "cell_type": "code",
   "execution_count": 29,
   "metadata": {},
   "outputs": [
    {
     "data": {
      "text/plain": [
       "['measurement', 'station']"
      ]
     },
     "execution_count": 29,
     "metadata": {},
     "output_type": "execute_result"
    }
   ],
   "source": [
    "# We can view all of the classes that automap found\n",
    "Base.classes.keys()"
   ]
  },
  {
   "cell_type": "code",
   "execution_count": 30,
   "metadata": {},
   "outputs": [],
   "source": [
    "# Save references to each table\n",
    "Measurement = Base.classes.measurement\n",
    "Station = Base.classes.station"
   ]
  },
  {
   "cell_type": "code",
   "execution_count": 31,
   "metadata": {},
   "outputs": [],
   "source": [
    "# Create our session (link) from Python to the DB\n",
    "session = Session(engine)"
   ]
  },
  {
   "cell_type": "markdown",
   "metadata": {},
   "source": [
    "# Exploratory Climate Analysis"
   ]
  },
  {
   "cell_type": "code",
   "execution_count": null,
   "metadata": {},
   "outputs": [],
   "source": [
    "# Design a query to retrieve the last 12 months of precipitation data and plot the results\n",
    "\n",
    "# Calculate the date 1 year ago from the last data point in the database\n",
    "\n",
    "# Perform a query to retrieve the data and precipitation scores\n",
    "\n",
    "# Save the query results as a Pandas DataFrame and set the index to the date column\n",
    "\n",
    "# Sort the dataframe by date\n",
    "\n",
    "# Use Pandas Plotting with Matplotlib to plot the data\n"
   ]
  },
  {
   "cell_type": "markdown",
   "metadata": {},
   "source": [
    "![precipitation](Images/precipitation.png)"
   ]
  },
  {
   "cell_type": "code",
   "execution_count": 32,
   "metadata": {},
   "outputs": [
    {
     "data": {
      "text/plain": [
       "('2017-08-23')"
      ]
     },
     "execution_count": 32,
     "metadata": {},
     "output_type": "execute_result"
    }
   ],
   "source": [
    "# Design a query to retrieve the last 12 months of precipitation data and plot the results\n",
    "\n",
    "\n",
    "max_date = session.query(Measurement.date).order_by(Measurement.date.desc()).first()\n",
    "max_date\n",
    "\n"
   ]
  },
  {
   "cell_type": "code",
   "execution_count": 34,
   "metadata": {},
   "outputs": [
    {
     "name": "stdout",
     "output_type": "stream",
     "text": [
      "2016-08-23\n"
     ]
    }
   ],
   "source": [
    "# Calculate the date 1 year ago from the last data point in the database\n",
    "\n",
    "\n",
    "one_year_ago = dt.date(2017,8,23) - dt.timedelta(days=365)\n",
    "print(one_year_ago)"
   ]
  },
  {
   "cell_type": "code",
   "execution_count": 36,
   "metadata": {},
   "outputs": [],
   "source": [
    "# Perform a query to retrieve the data and precipitation scores\n",
    "\n",
    "prcp = session.query(Measurement.date,Measurement.prcp).\\\n",
    "    filter(Measurement.date > one_year_ago).\\\n",
    "    order_by(Measurement.date).all()\n",
    "\n"
   ]
  },
  {
   "cell_type": "code",
   "execution_count": 38,
   "metadata": {},
   "outputs": [
    {
     "data": {
      "text/html": [
       "<div>\n",
       "<style scoped>\n",
       "    .dataframe tbody tr th:only-of-type {\n",
       "        vertical-align: middle;\n",
       "    }\n",
       "\n",
       "    .dataframe tbody tr th {\n",
       "        vertical-align: top;\n",
       "    }\n",
       "\n",
       "    .dataframe thead th {\n",
       "        text-align: right;\n",
       "    }\n",
       "</style>\n",
       "<table border=\"1\" class=\"dataframe\">\n",
       "  <thead>\n",
       "    <tr style=\"text-align: right;\">\n",
       "      <th></th>\n",
       "      <th>prcp</th>\n",
       "    </tr>\n",
       "    <tr>\n",
       "      <th>date</th>\n",
       "      <th></th>\n",
       "    </tr>\n",
       "  </thead>\n",
       "  <tbody>\n",
       "    <tr>\n",
       "      <th>2016-08-24</th>\n",
       "      <td>0.08</td>\n",
       "    </tr>\n",
       "    <tr>\n",
       "      <th>2016-08-24</th>\n",
       "      <td>2.15</td>\n",
       "    </tr>\n",
       "    <tr>\n",
       "      <th>2016-08-24</th>\n",
       "      <td>2.28</td>\n",
       "    </tr>\n",
       "    <tr>\n",
       "      <th>2016-08-24</th>\n",
       "      <td>NaN</td>\n",
       "    </tr>\n",
       "    <tr>\n",
       "      <th>2016-08-24</th>\n",
       "      <td>1.22</td>\n",
       "    </tr>\n",
       "  </tbody>\n",
       "</table>\n",
       "</div>"
      ],
      "text/plain": [
       "            prcp\n",
       "date            \n",
       "2016-08-24  0.08\n",
       "2016-08-24  2.15\n",
       "2016-08-24  2.28\n",
       "2016-08-24   NaN\n",
       "2016-08-24  1.22"
      ]
     },
     "execution_count": 38,
     "metadata": {},
     "output_type": "execute_result"
    }
   ],
   "source": [
    "# Save the query results as a Pandas DataFrame and set the index to the date column\n",
    "\n",
    "\n",
    "prcp_df = pd.DataFrame(prcp, columns=['date','prcp'])\n",
    "prcp_df.set_index('date').head()\n",
    "\n"
   ]
  },
  {
   "cell_type": "code",
   "execution_count": 45,
   "metadata": {},
   "outputs": [
    {
     "data": {
      "text/html": [
       "<div>\n",
       "<style scoped>\n",
       "    .dataframe tbody tr th:only-of-type {\n",
       "        vertical-align: middle;\n",
       "    }\n",
       "\n",
       "    .dataframe tbody tr th {\n",
       "        vertical-align: top;\n",
       "    }\n",
       "\n",
       "    .dataframe thead th {\n",
       "        text-align: right;\n",
       "    }\n",
       "</style>\n",
       "<table border=\"1\" class=\"dataframe\">\n",
       "  <thead>\n",
       "    <tr style=\"text-align: right;\">\n",
       "      <th></th>\n",
       "      <th>date</th>\n",
       "      <th>prcp</th>\n",
       "    </tr>\n",
       "  </thead>\n",
       "  <tbody>\n",
       "    <tr>\n",
       "      <th>0</th>\n",
       "      <td>2016-08-24</td>\n",
       "      <td>0.08</td>\n",
       "    </tr>\n",
       "    <tr>\n",
       "      <th>1</th>\n",
       "      <td>2016-08-24</td>\n",
       "      <td>2.15</td>\n",
       "    </tr>\n",
       "    <tr>\n",
       "      <th>2</th>\n",
       "      <td>2016-08-24</td>\n",
       "      <td>2.28</td>\n",
       "    </tr>\n",
       "    <tr>\n",
       "      <th>3</th>\n",
       "      <td>2016-08-24</td>\n",
       "      <td>NaN</td>\n",
       "    </tr>\n",
       "    <tr>\n",
       "      <th>4</th>\n",
       "      <td>2016-08-24</td>\n",
       "      <td>1.22</td>\n",
       "    </tr>\n",
       "  </tbody>\n",
       "</table>\n",
       "</div>"
      ],
      "text/plain": [
       "         date  prcp\n",
       "0  2016-08-24  0.08\n",
       "1  2016-08-24  2.15\n",
       "2  2016-08-24  2.28\n",
       "3  2016-08-24   NaN\n",
       "4  2016-08-24  1.22"
      ]
     },
     "execution_count": 45,
     "metadata": {},
     "output_type": "execute_result"
    }
   ],
   "source": [
    "# Sort the dataframe by date\n",
    "prcp_df = prcp_df.sort_values(by='date',ascending=True)\n",
    "\n",
    "prcp_df.head()\n"
   ]
  },
  {
   "cell_type": "code",
   "execution_count": 59,
   "metadata": {
    "scrolled": false
   },
   "outputs": [
    {
     "data": {
      "text/plain": [
       "<Figure size 360x288 with 0 Axes>"
      ]
     },
     "metadata": {},
     "output_type": "display_data"
    },
    {
     "data": {
      "image/png": "[encoded data removed]",
      "text/plain": [
       "<Figure size 432x288 with 1 Axes>"
      ]
     },
     "metadata": {},
     "output_type": "display_data"
    }
   ],
   "source": [
    "# Use Pandas Plotting with Matplotlib to plot the data\n",
    "\n",
    "\n",
    "fig1 = plt.figure(figsize=(5,4))\n",
    "\n",
    "prcp_df.plot('date', 'prcp')\n",
    "\n",
    "#plt.grid(True)\n",
    "\n",
    "plt.xlabel(\"Date\")\n",
    "plt.ylabel(\"Percipitation Volume \")\n",
    "plt.title(\"Precipitation Analysis\")\n",
    "\n",
    "plt.xticks(rotation=45)\n",
    "plt.legend(loc='upper center')\n",
    "\n",
    "\n",
    "\n",
    "plt.savefig(\"Images/Precipitation.png\")\n",
    "plt.show()\n"
   ]
  },
  {
   "cell_type": "code",
   "execution_count": 60,
   "metadata": {},
   "outputs": [
    {
     "data": {
      "text/html": [
       "<div>\n",
       "<style scoped>\n",
       "    .dataframe tbody tr th:only-of-type {\n",
       "        vertical-align: middle;\n",
       "    }\n",
       "\n",
       "    .dataframe tbody tr th {\n",
       "        vertical-align: top;\n",
       "    }\n",
       "\n",
       "    .dataframe thead th {\n",
       "        text-align: right;\n",
       "    }\n",
       "</style>\n",
       "<table border=\"1\" class=\"dataframe\">\n",
       "  <thead>\n",
       "    <tr style=\"text-align: right;\">\n",
       "      <th></th>\n",
       "      <th>prcp</th>\n",
       "    </tr>\n",
       "  </thead>\n",
       "  <tbody>\n",
       "    <tr>\n",
       "      <th>count</th>\n",
       "      <td>2015.000000</td>\n",
       "    </tr>\n",
       "    <tr>\n",
       "      <th>mean</th>\n",
       "      <td>0.176462</td>\n",
       "    </tr>\n",
       "    <tr>\n",
       "      <th>std</th>\n",
       "      <td>0.460288</td>\n",
       "    </tr>\n",
       "    <tr>\n",
       "      <th>min</th>\n",
       "      <td>0.000000</td>\n",
       "    </tr>\n",
       "    <tr>\n",
       "      <th>25%</th>\n",
       "      <td>0.000000</td>\n",
       "    </tr>\n",
       "    <tr>\n",
       "      <th>50%</th>\n",
       "      <td>0.020000</td>\n",
       "    </tr>\n",
       "    <tr>\n",
       "      <th>75%</th>\n",
       "      <td>0.130000</td>\n",
       "    </tr>\n",
       "    <tr>\n",
       "      <th>max</th>\n",
       "      <td>6.700000</td>\n",
       "    </tr>\n",
       "  </tbody>\n",
       "</table>\n",
       "</div>"
      ],
      "text/plain": [
       "              prcp\n",
       "count  2015.000000\n",
       "mean      0.176462\n",
       "std       0.460288\n",
       "min       0.000000\n",
       "25%       0.000000\n",
       "50%       0.020000\n",
       "75%       0.130000\n",
       "max       6.700000"
      ]
     },
     "execution_count": 60,
     "metadata": {},
     "output_type": "execute_result"
    }
   ],
   "source": [
    "# Use Pandas to calcualte the summary statistics for the precipitation data\n",
    "\n",
    "prcp_df.describe()\n",
    "\n",
    "\n"
   ]
  },
  {
   "cell_type": "markdown",
   "metadata": {},
   "source": [
    "![describe](Images/describe.png)"
   ]
  },
  {
   "cell_type": "code",
   "execution_count": 74,
   "metadata": {},
   "outputs": [
    {
     "data": {
      "text/plain": [
       "[(9)]"
      ]
     },
     "execution_count": 74,
     "metadata": {},
     "output_type": "execute_result"
    }
   ],
   "source": [
    "# Total number of stations\n",
    "total_stations = session.query(func.count(Station.station)).all()\n",
    "total_stations"
   ]
  },
  {
   "cell_type": "code",
   "execution_count": 75,
   "metadata": {},
   "outputs": [
    {
     "name": "stdout",
     "output_type": "stream",
     "text": [
      "There are 9 stations that are available.\n"
     ]
    }
   ],
   "source": [
    "# Design a query to calculate the total number of stations.\n",
    "\n",
    "location_station = session.query(Measurement).group_by(Measurement.station).count()\n",
    "print(\"There are {} stations that are available.\".format(location_station))\n",
    "\n",
    "\n"
   ]
  },
  {
   "cell_type": "code",
   "execution_count": 79,
   "metadata": {},
   "outputs": [
    {
     "name": "stdout",
     "output_type": "stream",
     "text": [
      "Most Active Stations:\n"
     ]
    },
    {
     "data": {
      "text/plain": [
       "[('USC00519281', 2772),\n",
       " ('USC00519397', 2724),\n",
       " ('USC00513117', 2709),\n",
       " ('USC00519523', 2669),\n",
       " ('USC00516128', 2612),\n",
       " ('USC00514830', 2202),\n",
       " ('USC00511918', 1979),\n",
       " ('USC00517948', 1372),\n",
       " ('USC00518838', 511)]"
      ]
     },
     "execution_count": 79,
     "metadata": {},
     "output_type": "execute_result"
    }
   ],
   "source": [
    "# Design a query to find the most active stations.\n",
    "#List the stations and observation counts in descending order.\n",
    "\n",
    "active_stations = session.query(Measurement.station, func.count(Measurement.station)).\\\n",
    "group_by(Measurement.station).order_by(func.count(Measurement.station).desc()).all()\n",
    "\n",
    "print(f\"Most Active Stations:\")\n",
    "active_stations"
   ]
  },
  {
   "cell_type": "code",
   "execution_count": 80,
   "metadata": {},
   "outputs": [
    {
     "name": "stdout",
     "output_type": "stream",
     "text": [
      "Most Active Station: USC00519281\n"
     ]
    }
   ],
   "source": [
    "#Which station has the highest number of observations?\n",
    "#Hint: You may need to use functions such as func.min, func.max, func.avg, and func.count in your queries.\n",
    "\n",
    "most_active_station=active_stations[0][0]\n",
    "print(f\"Most Active Station: {most_active_station}\")\n"
   ]
  },
  {
   "cell_type": "code",
   "execution_count": 81,
   "metadata": {},
   "outputs": [
    {
     "name": "stdout",
     "output_type": "stream",
     "text": [
      "Most Active Station Temperatures\n",
      "Low: 54.0 High: 85.0 Average: 71.7\n"
     ]
    }
   ],
   "source": [
    "#Design a query to retrieve the last 12 months of temperature observation data (tobs).\n",
    "#Filter by the station with the highest number of observations.\n",
    "\n",
    "most_active_temps = session.query(func.min(Measurement.tobs), func.max(Measurement.tobs),\n",
    "                                  func.avg(Measurement.tobs)).filter(Measurement.station == most_active_station).all()\n",
    "print(f\"Most Active Station Temperatures\")\n",
    "print(f\"Low: {most_active_temps[0][0]} High: {most_active_temps[0][1]} Average: {round(most_active_temps[0][2], 1)}\")\n",
    "\n",
    "\n"
   ]
  },
  {
   "cell_type": "code",
   "execution_count": 84,
   "metadata": {},
   "outputs": [
    {
     "data": {
      "text/plain": [
       "[('USC00519281', '2016-08-24', 77.0),\n",
       " ('USC00519281', '2016-08-25', 80.0),\n",
       " ('USC00519281', '2016-08-26', 80.0),\n",
       " ('USC00519281', '2016-08-27', 75.0),\n",
       " ('USC00519281', '2016-08-28', 73.0),\n",
       " ('USC00519281', '2016-08-29', 78.0),\n",
       " ('USC00519281', '2016-08-30', 77.0),\n",
       " ('USC00519281', '2016-08-31', 78.0),\n",
       " ('USC00519281', '2016-09-01', 80.0),\n",
       " ('USC00519281', '2016-09-02', 80.0),\n",
       " ('USC00519281', '2016-09-03', 78.0),\n",
       " ('USC00519281', '2016-09-04', 78.0),\n",
       " ('USC00519281', '2016-09-05', 78.0),\n",
       " ('USC00519281', '2016-09-06', 73.0),\n",
       " ('USC00519281', '2016-09-07', 74.0),\n",
       " ('USC00519281', '2016-09-08', 80.0),\n",
       " ('USC00519281', '2016-09-09', 79.0),\n",
       " ('USC00519281', '2016-09-10', 77.0),\n",
       " ('USC00519281', '2016-09-11', 80.0),\n",
       " ('USC00519281', '2016-09-12', 76.0),\n",
       " ('USC00519281', '2016-09-13', 79.0),\n",
       " ('USC00519281', '2016-09-14', 75.0),\n",
       " ('USC00519281', '2016-09-15', 79.0),\n",
       " ('USC00519281', '2016-09-16', 78.0),\n",
       " ('USC00519281', '2016-09-17', 79.0),\n",
       " ('USC00519281', '2016-09-18', 78.0),\n",
       " ('USC00519281', '2016-09-19', 78.0),\n",
       " ('USC00519281', '2016-09-20', 76.0),\n",
       " ('USC00519281', '2016-09-21', 74.0),\n",
       " ('USC00519281', '2016-09-22', 77.0),\n",
       " ('USC00519281', '2016-09-23', 78.0),\n",
       " ('USC00519281', '2016-09-24', 79.0),\n",
       " ('USC00519281', '2016-09-25', 79.0),\n",
       " ('USC00519281', '2016-09-26', 77.0),\n",
       " ('USC00519281', '2016-09-27', 80.0),\n",
       " ('USC00519281', '2016-09-28', 78.0),\n",
       " ('USC00519281', '2016-09-29', 78.0),\n",
       " ('USC00519281', '2016-09-30', 78.0),\n",
       " ('USC00519281', '2016-10-01', 77.0),\n",
       " ('USC00519281', '2016-10-02', 79.0),\n",
       " ('USC00519281', '2016-10-03', 79.0),\n",
       " ('USC00519281', '2016-10-04', 79.0),\n",
       " ('USC00519281', '2016-10-05', 79.0),\n",
       " ('USC00519281', '2016-10-06', 75.0),\n",
       " ('USC00519281', '2016-10-07', 76.0),\n",
       " ('USC00519281', '2016-10-08', 73.0),\n",
       " ('USC00519281', '2016-10-09', 72.0),\n",
       " ('USC00519281', '2016-10-10', 71.0),\n",
       " ('USC00519281', '2016-10-11', 77.0),\n",
       " ('USC00519281', '2016-10-12', 79.0),\n",
       " ('USC00519281', '2016-10-13', 78.0),\n",
       " ('USC00519281', '2016-10-14', 79.0),\n",
       " ('USC00519281', '2016-10-15', 77.0),\n",
       " ('USC00519281', '2016-10-16', 79.0),\n",
       " ('USC00519281', '2016-10-17', 77.0),\n",
       " ('USC00519281', '2016-10-18', 78.0),\n",
       " ('USC00519281', '2016-10-19', 78.0),\n",
       " ('USC00519281', '2016-10-20', 78.0),\n",
       " ('USC00519281', '2016-10-21', 78.0),\n",
       " ('USC00519281', '2016-10-22', 77.0),\n",
       " ('USC00519281', '2016-10-23', 74.0),\n",
       " ('USC00519281', '2016-10-24', 75.0),\n",
       " ('USC00519281', '2016-10-25', 76.0),\n",
       " ('USC00519281', '2016-10-26', 73.0),\n",
       " ('USC00519281', '2016-10-27', 76.0),\n",
       " ('USC00519281', '2016-10-28', 74.0),\n",
       " ('USC00519281', '2016-10-29', 77.0),\n",
       " ('USC00519281', '2016-10-30', 76.0),\n",
       " ('USC00519281', '2016-10-31', 76.0),\n",
       " ('USC00519281', '2016-11-01', 74.0),\n",
       " ('USC00519281', '2016-11-02', 75.0),\n",
       " ('USC00519281', '2016-11-03', 75.0),\n",
       " ('USC00519281', '2016-11-04', 75.0),\n",
       " ('USC00519281', '2016-11-05', 75.0),\n",
       " ('USC00519281', '2016-11-06', 71.0),\n",
       " ('USC00519281', '2016-11-07', 63.0),\n",
       " ('USC00519281', '2016-11-08', 70.0),\n",
       " ('USC00519281', '2016-11-09', 68.0),\n",
       " ('USC00519281', '2016-11-10', 67.0),\n",
       " ('USC00519281', '2016-11-11', 77.0),\n",
       " ('USC00519281', '2016-11-12', 74.0),\n",
       " ('USC00519281', '2016-11-13', 77.0),\n",
       " ('USC00519281', '2016-11-14', 76.0),\n",
       " ('USC00519281', '2016-11-15', 76.0),\n",
       " ('USC00519281', '2016-11-16', 75.0),\n",
       " ('USC00519281', '2016-11-17', 76.0),\n",
       " ('USC00519281', '2016-11-18', 75.0),\n",
       " ('USC00519281', '2016-11-19', 73.0),\n",
       " ('USC00519281', '2016-11-20', 75.0),\n",
       " ('USC00519281', '2016-11-21', 73.0),\n",
       " ('USC00519281', '2016-11-22', 75.0),\n",
       " ('USC00519281', '2016-11-23', 74.0),\n",
       " ('USC00519281', '2016-11-24', 75.0),\n",
       " ('USC00519281', '2016-11-25', 74.0),\n",
       " ('USC00519281', '2016-11-26', 75.0),\n",
       " ('USC00519281', '2016-11-27', 73.0),\n",
       " ('USC00519281', '2016-11-28', 75.0),\n",
       " ('USC00519281', '2016-11-29', 73.0),\n",
       " ('USC00519281', '2016-11-30', 73.0),\n",
       " ('USC00519281', '2016-12-01', 74.0),\n",
       " ('USC00519281', '2016-12-02', 70.0),\n",
       " ('USC00519281', '2016-12-03', 72.0),\n",
       " ('USC00519281', '2016-12-04', 70.0),\n",
       " ('USC00519281', '2016-12-05', 67.0),\n",
       " ('USC00519281', '2016-12-06', 67.0),\n",
       " ('USC00519281', '2016-12-07', 69.0),\n",
       " ('USC00519281', '2016-12-08', 70.0),\n",
       " ('USC00519281', '2016-12-09', 68.0),\n",
       " ('USC00519281', '2016-12-10', 69.0),\n",
       " ('USC00519281', '2016-12-11', 69.0),\n",
       " ('USC00519281', '2016-12-12', 66.0),\n",
       " ('USC00519281', '2016-12-13', 65.0),\n",
       " ('USC00519281', '2016-12-14', 68.0),\n",
       " ('USC00519281', '2016-12-15', 62.0),\n",
       " ('USC00519281', '2016-12-16', 75.0),\n",
       " ('USC00519281', '2016-12-17', 70.0),\n",
       " ('USC00519281', '2016-12-18', 69.0),\n",
       " ('USC00519281', '2016-12-19', 76.0),\n",
       " ('USC00519281', '2016-12-20', 76.0),\n",
       " ('USC00519281', '2016-12-21', 74.0),\n",
       " ('USC00519281', '2016-12-22', 73.0),\n",
       " ('USC00519281', '2016-12-23', 71.0),\n",
       " ('USC00519281', '2016-12-24', 74.0),\n",
       " ('USC00519281', '2016-12-25', 74.0),\n",
       " ('USC00519281', '2016-12-26', 72.0),\n",
       " ('USC00519281', '2016-12-27', 71.0),\n",
       " ('USC00519281', '2016-12-28', 72.0),\n",
       " ('USC00519281', '2016-12-29', 74.0),\n",
       " ('USC00519281', '2016-12-30', 69.0),\n",
       " ('USC00519281', '2016-12-31', 67.0),\n",
       " ('USC00519281', '2017-01-01', 72.0),\n",
       " ('USC00519281', '2017-01-02', 70.0),\n",
       " ('USC00519281', '2017-01-03', 64.0),\n",
       " ('USC00519281', '2017-01-04', 63.0),\n",
       " ('USC00519281', '2017-01-05', 63.0),\n",
       " ('USC00519281', '2017-01-06', 62.0),\n",
       " ('USC00519281', '2017-01-07', 70.0),\n",
       " ('USC00519281', '2017-01-08', 70.0),\n",
       " ('USC00519281', '2017-01-09', 62.0),\n",
       " ('USC00519281', '2017-01-10', 62.0),\n",
       " ('USC00519281', '2017-01-11', 63.0),\n",
       " ('USC00519281', '2017-01-12', 65.0),\n",
       " ('USC00519281', '2017-01-13', 69.0),\n",
       " ('USC00519281', '2017-01-14', 77.0),\n",
       " ('USC00519281', '2017-01-15', 70.0),\n",
       " ('USC00519281', '2017-01-16', 74.0),\n",
       " ('USC00519281', '2017-01-17', 69.0),\n",
       " ('USC00519281', '2017-01-18', 72.0),\n",
       " ('USC00519281', '2017-01-19', 71.0),\n",
       " ('USC00519281', '2017-01-20', 69.0),\n",
       " ('USC00519281', '2017-01-21', 71.0),\n",
       " ('USC00519281', '2017-01-22', 71.0),\n",
       " ('USC00519281', '2017-01-23', 72.0),\n",
       " ('USC00519281', '2017-01-24', 72.0),\n",
       " ('USC00519281', '2017-01-25', 69.0),\n",
       " ('USC00519281', '2017-01-26', 70.0),\n",
       " ('USC00519281', '2017-01-27', 66.0),\n",
       " ('USC00519281', '2017-01-28', 65.0),\n",
       " ('USC00519281', '2017-01-29', 69.0),\n",
       " ('USC00519281', '2017-01-30', 68.0),\n",
       " ('USC00519281', '2017-01-31', 68.0),\n",
       " ('USC00519281', '2017-02-01', 68.0),\n",
       " ('USC00519281', '2017-02-02', 59.0),\n",
       " ('USC00519281', '2017-02-03', 60.0),\n",
       " ('USC00519281', '2017-02-04', 70.0),\n",
       " ('USC00519281', '2017-02-05', 73.0),\n",
       " ('USC00519281', '2017-02-06', 75.0),\n",
       " ('USC00519281', '2017-02-07', 64.0),\n",
       " ('USC00519281', '2017-02-08', 59.0),\n",
       " ('USC00519281', '2017-02-09', 59.0),\n",
       " ('USC00519281', '2017-02-10', 62.0),\n",
       " ('USC00519281', '2017-02-11', 68.0),\n",
       " ('USC00519281', '2017-02-12', 70.0),\n",
       " ('USC00519281', '2017-02-13', 73.0),\n",
       " ('USC00519281', '2017-02-14', 79.0),\n",
       " ('USC00519281', '2017-02-15', 75.0),\n",
       " ('USC00519281', '2017-02-16', 65.0),\n",
       " ('USC00519281', '2017-02-17', 70.0),\n",
       " ('USC00519281', '2017-02-18', 74.0),\n",
       " ('USC00519281', '2017-02-19', 70.0),\n",
       " ('USC00519281', '2017-02-20', 70.0),\n",
       " ('USC00519281', '2017-02-21', 71.0),\n",
       " ('USC00519281', '2017-02-22', 71.0),\n",
       " ('USC00519281', '2017-02-23', 71.0),\n",
       " ('USC00519281', '2017-02-24', 69.0),\n",
       " ('USC00519281', '2017-02-25', 61.0),\n",
       " ('USC00519281', '2017-02-26', 67.0),\n",
       " ('USC00519281', '2017-02-27', 65.0),\n",
       " ('USC00519281', '2017-02-28', 72.0),\n",
       " ('USC00519281', '2017-03-01', 71.0),\n",
       " ('USC00519281', '2017-03-02', 73.0),\n",
       " ('USC00519281', '2017-03-03', 72.0),\n",
       " ('USC00519281', '2017-03-04', 77.0),\n",
       " ('USC00519281', '2017-03-05', 73.0),\n",
       " ('USC00519281', '2017-03-06', 67.0),\n",
       " ('USC00519281', '2017-03-07', 62.0),\n",
       " ('USC00519281', '2017-03-08', 64.0),\n",
       " ('USC00519281', '2017-03-09', 67.0),\n",
       " ('USC00519281', '2017-03-10', 66.0),\n",
       " ('USC00519281', '2017-03-11', 81.0),\n",
       " ('USC00519281', '2017-03-12', 69.0),\n",
       " ('USC00519281', '2017-03-13', 66.0),\n",
       " ('USC00519281', '2017-03-14', 67.0),\n",
       " ('USC00519281', '2017-03-15', 69.0),\n",
       " ('USC00519281', '2017-03-16', 66.0),\n",
       " ('USC00519281', '2017-03-17', 68.0),\n",
       " ('USC00519281', '2017-03-18', 65.0),\n",
       " ('USC00519281', '2017-03-19', 74.0),\n",
       " ('USC00519281', '2017-03-20', 69.0),\n",
       " ('USC00519281', '2017-03-21', 72.0),\n",
       " ('USC00519281', '2017-03-22', 73.0),\n",
       " ('USC00519281', '2017-03-23', 72.0),\n",
       " ('USC00519281', '2017-03-24', 71.0),\n",
       " ('USC00519281', '2017-03-25', 76.0),\n",
       " ('USC00519281', '2017-03-26', 77.0),\n",
       " ('USC00519281', '2017-03-27', 76.0),\n",
       " ('USC00519281', '2017-03-28', 74.0),\n",
       " ('USC00519281', '2017-03-29', 68.0),\n",
       " ('USC00519281', '2017-03-30', 73.0),\n",
       " ('USC00519281', '2017-03-31', 71.0),\n",
       " ('USC00519281', '2017-04-01', 74.0),\n",
       " ('USC00519281', '2017-04-02', 75.0),\n",
       " ('USC00519281', '2017-04-03', 70.0),\n",
       " ('USC00519281', '2017-04-04', 67.0),\n",
       " ('USC00519281', '2017-04-05', 71.0),\n",
       " ('USC00519281', '2017-04-06', 67.0),\n",
       " ('USC00519281', '2017-04-07', 74.0),\n",
       " ('USC00519281', '2017-04-08', 77.0),\n",
       " ('USC00519281', '2017-04-09', 78.0),\n",
       " ('USC00519281', '2017-04-10', 67.0),\n",
       " ('USC00519281', '2017-04-11', 70.0),\n",
       " ('USC00519281', '2017-04-12', 69.0),\n",
       " ('USC00519281', '2017-04-13', 69.0),\n",
       " ('USC00519281', '2017-04-14', 74.0),\n",
       " ('USC00519281', '2017-04-15', 78.0),\n",
       " ('USC00519281', '2017-04-16', 71.0),\n",
       " ('USC00519281', '2017-04-17', 67.0),\n",
       " ('USC00519281', '2017-04-18', 68.0),\n",
       " ('USC00519281', '2017-04-19', 67.0),\n",
       " ('USC00519281', '2017-04-20', 76.0),\n",
       " ('USC00519281', '2017-04-21', 69.0),\n",
       " ('USC00519281', '2017-04-22', 72.0),\n",
       " ('USC00519281', '2017-04-23', 76.0),\n",
       " ('USC00519281', '2017-04-24', 68.0),\n",
       " ('USC00519281', '2017-04-25', 72.0),\n",
       " ('USC00519281', '2017-04-26', 74.0),\n",
       " ('USC00519281', '2017-04-27', 70.0),\n",
       " ('USC00519281', '2017-04-28', 67.0),\n",
       " ('USC00519281', '2017-04-29', 72.0),\n",
       " ('USC00519281', '2017-04-30', 60.0),\n",
       " ('USC00519281', '2017-05-01', 65.0),\n",
       " ('USC00519281', '2017-05-02', 75.0),\n",
       " ('USC00519281', '2017-05-03', 70.0),\n",
       " ('USC00519281', '2017-05-04', 75.0),\n",
       " ('USC00519281', '2017-05-05', 70.0),\n",
       " ('USC00519281', '2017-05-06', 79.0),\n",
       " ('USC00519281', '2017-05-07', 75.0),\n",
       " ('USC00519281', '2017-05-08', 70.0),\n",
       " ('USC00519281', '2017-05-09', 67.0),\n",
       " ('USC00519281', '2017-05-10', 74.0),\n",
       " ('USC00519281', '2017-05-11', 70.0),\n",
       " ('USC00519281', '2017-05-12', 75.0),\n",
       " ('USC00519281', '2017-05-13', 76.0),\n",
       " ('USC00519281', '2017-05-14', 77.0),\n",
       " ('USC00519281', '2017-05-15', 74.0),\n",
       " ('USC00519281', '2017-05-16', 74.0),\n",
       " ('USC00519281', '2017-05-17', 74.0),\n",
       " ('USC00519281', '2017-05-18', 69.0),\n",
       " ('USC00519281', '2017-05-19', 68.0),\n",
       " ('USC00519281', '2017-05-20', 76.0),\n",
       " ('USC00519281', '2017-05-21', 74.0),\n",
       " ('USC00519281', '2017-05-22', 71.0),\n",
       " ('USC00519281', '2017-05-23', 71.0),\n",
       " ('USC00519281', '2017-05-24', 74.0),\n",
       " ('USC00519281', '2017-05-25', 74.0),\n",
       " ('USC00519281', '2017-05-26', 74.0),\n",
       " ('USC00519281', '2017-05-27', 74.0),\n",
       " ('USC00519281', '2017-05-28', 80.0),\n",
       " ('USC00519281', '2017-05-29', 74.0),\n",
       " ('USC00519281', '2017-05-30', 72.0),\n",
       " ('USC00519281', '2017-05-31', 75.0),\n",
       " ('USC00519281', '2017-06-01', 80.0),\n",
       " ('USC00519281', '2017-06-02', 76.0),\n",
       " ('USC00519281', '2017-06-03', 76.0),\n",
       " ('USC00519281', '2017-06-04', 77.0),\n",
       " ('USC00519281', '2017-06-05', 75.0),\n",
       " ('USC00519281', '2017-06-06', 75.0),\n",
       " ('USC00519281', '2017-06-07', 75.0),\n",
       " ('USC00519281', '2017-06-08', 75.0),\n",
       " ('USC00519281', '2017-06-09', 72.0),\n",
       " ('USC00519281', '2017-06-10', 74.0),\n",
       " ('USC00519281', '2017-06-11', 74.0),\n",
       " ('USC00519281', '2017-06-12', 74.0),\n",
       " ('USC00519281', '2017-06-13', 76.0),\n",
       " ('USC00519281', '2017-06-14', 74.0),\n",
       " ('USC00519281', '2017-06-15', 75.0),\n",
       " ('USC00519281', '2017-06-16', 73.0),\n",
       " ('USC00519281', '2017-06-17', 79.0),\n",
       " ('USC00519281', '2017-06-18', 75.0),\n",
       " ('USC00519281', '2017-06-19', 72.0),\n",
       " ('USC00519281', '2017-06-20', 72.0),\n",
       " ('USC00519281', '2017-06-21', 74.0),\n",
       " ('USC00519281', '2017-06-22', 72.0),\n",
       " ('USC00519281', '2017-06-23', 72.0),\n",
       " ('USC00519281', '2017-06-24', 77.0),\n",
       " ('USC00519281', '2017-06-25', 71.0),\n",
       " ('USC00519281', '2017-06-26', 73.0),\n",
       " ('USC00519281', '2017-06-27', 76.0),\n",
       " ('USC00519281', '2017-06-28', 77.0),\n",
       " ('USC00519281', '2017-06-29', 76.0),\n",
       " ('USC00519281', '2017-06-30', 76.0),\n",
       " ('USC00519281', '2017-07-01', 79.0),\n",
       " ('USC00519281', '2017-07-02', 81.0),\n",
       " ('USC00519281', '2017-07-03', 76.0),\n",
       " ('USC00519281', '2017-07-04', 78.0),\n",
       " ('USC00519281', '2017-07-05', 77.0),\n",
       " ('USC00519281', '2017-07-06', 74.0),\n",
       " ('USC00519281', '2017-07-07', 75.0),\n",
       " ('USC00519281', '2017-07-08', 78.0),\n",
       " ('USC00519281', '2017-07-09', 78.0),\n",
       " ('USC00519281', '2017-07-10', 69.0),\n",
       " ('USC00519281', '2017-07-11', 72.0),\n",
       " ('USC00519281', '2017-07-12', 74.0),\n",
       " ('USC00519281', '2017-07-13', 74.0),\n",
       " ('USC00519281', '2017-07-14', 76.0),\n",
       " ('USC00519281', '2017-07-15', 80.0),\n",
       " ('USC00519281', '2017-07-16', 80.0),\n",
       " ('USC00519281', '2017-07-17', 76.0),\n",
       " ('USC00519281', '2017-07-18', 76.0),\n",
       " ('USC00519281', '2017-07-19', 76.0),\n",
       " ('USC00519281', '2017-07-20', 77.0),\n",
       " ('USC00519281', '2017-07-21', 77.0),\n",
       " ('USC00519281', '2017-07-22', 77.0),\n",
       " ('USC00519281', '2017-07-23', 82.0),\n",
       " ('USC00519281', '2017-07-24', 75.0),\n",
       " ('USC00519281', '2017-07-25', 77.0),\n",
       " ('USC00519281', '2017-07-26', 75.0),\n",
       " ('USC00519281', '2017-07-27', 76.0),\n",
       " ('USC00519281', '2017-07-28', 81.0),\n",
       " ('USC00519281', '2017-07-29', 82.0),\n",
       " ('USC00519281', '2017-07-30', 81.0),\n",
       " ('USC00519281', '2017-07-31', 76.0),\n",
       " ('USC00519281', '2017-08-04', 77.0),\n",
       " ('USC00519281', '2017-08-05', 82.0),\n",
       " ('USC00519281', '2017-08-06', 83.0),\n",
       " ('USC00519281', '2017-08-13', 77.0),\n",
       " ('USC00519281', '2017-08-14', 77.0),\n",
       " ('USC00519281', '2017-08-15', 77.0),\n",
       " ('USC00519281', '2017-08-16', 76.0),\n",
       " ('USC00519281', '2017-08-17', 76.0),\n",
       " ('USC00519281', '2017-08-18', 79.0)]"
      ]
     },
     "execution_count": 84,
     "metadata": {},
     "output_type": "execute_result"
    }
   ],
   "source": [
    "# 'lowest temperature' recorded,'highest temperature' recorded, and 'average temperature' most active station?\n",
    "#Design a query to retrieve the last 12 months of temperature observation data (tobs).\n",
    "#Filter by the station with the highest number of observations.\n",
    "\n",
    "temperature_intel = session.query(Measurement.station, Measurement.date, Measurement.tobs).\\\n",
    "    filter(Measurement.station == popular_station).\\\n",
    "    filter(Measurement.date > one_year_ago).\\\n",
    "    order_by(Measurement.date).all()\n",
    "\n",
    "temperature_intel"
   ]
  },
  {
   "cell_type": "code",
   "execution_count": 88,
   "metadata": {},
   "outputs": [
    {
     "data": {
      "text/plain": [
       "'USC00519281'"
      ]
     },
     "execution_count": 88,
     "metadata": {},
     "output_type": "execute_result"
    }
   ],
   "source": [
    "# Choose the station with the highest number of temperature observations.\n",
    "most_temps_station = session.query(Measurement.station, func.count(Measurement.tobs)).group_by(Measurement.station).order_by(func.count(Measurement.station).desc()).first()\n",
    "most_temps_station= most_temps_station[0]\n",
    "most_temps_station\n"
   ]
  },
  {
   "cell_type": "code",
   "execution_count": 91,
   "metadata": {},
   "outputs": [
    {
     "data": {
      "text/html": [
       "<div>\n",
       "<style scoped>\n",
       "    .dataframe tbody tr th:only-of-type {\n",
       "        vertical-align: middle;\n",
       "    }\n",
       "\n",
       "    .dataframe tbody tr th {\n",
       "        vertical-align: top;\n",
       "    }\n",
       "\n",
       "    .dataframe thead th {\n",
       "        text-align: right;\n",
       "    }\n",
       "</style>\n",
       "<table border=\"1\" class=\"dataframe\">\n",
       "  <thead>\n",
       "    <tr style=\"text-align: right;\">\n",
       "      <th></th>\n",
       "      <th>temperature</th>\n",
       "    </tr>\n",
       "  </thead>\n",
       "  <tbody>\n",
       "    <tr>\n",
       "      <th>0</th>\n",
       "      <td>77.0</td>\n",
       "    </tr>\n",
       "    <tr>\n",
       "      <th>1</th>\n",
       "      <td>77.0</td>\n",
       "    </tr>\n",
       "    <tr>\n",
       "      <th>2</th>\n",
       "      <td>80.0</td>\n",
       "    </tr>\n",
       "    <tr>\n",
       "      <th>3</th>\n",
       "      <td>80.0</td>\n",
       "    </tr>\n",
       "    <tr>\n",
       "      <th>4</th>\n",
       "      <td>75.0</td>\n",
       "    </tr>\n",
       "    <tr>\n",
       "      <th>5</th>\n",
       "      <td>73.0</td>\n",
       "    </tr>\n",
       "    <tr>\n",
       "      <th>6</th>\n",
       "      <td>78.0</td>\n",
       "    </tr>\n",
       "    <tr>\n",
       "      <th>7</th>\n",
       "      <td>77.0</td>\n",
       "    </tr>\n",
       "    <tr>\n",
       "      <th>8</th>\n",
       "      <td>78.0</td>\n",
       "    </tr>\n",
       "    <tr>\n",
       "      <th>9</th>\n",
       "      <td>80.0</td>\n",
       "    </tr>\n",
       "    <tr>\n",
       "      <th>10</th>\n",
       "      <td>80.0</td>\n",
       "    </tr>\n",
       "    <tr>\n",
       "      <th>11</th>\n",
       "      <td>78.0</td>\n",
       "    </tr>\n",
       "    <tr>\n",
       "      <th>12</th>\n",
       "      <td>78.0</td>\n",
       "    </tr>\n",
       "    <tr>\n",
       "      <th>13</th>\n",
       "      <td>78.0</td>\n",
       "    </tr>\n",
       "    <tr>\n",
       "      <th>14</th>\n",
       "      <td>73.0</td>\n",
       "    </tr>\n",
       "    <tr>\n",
       "      <th>15</th>\n",
       "      <td>74.0</td>\n",
       "    </tr>\n",
       "    <tr>\n",
       "      <th>16</th>\n",
       "      <td>80.0</td>\n",
       "    </tr>\n",
       "    <tr>\n",
       "      <th>17</th>\n",
       "      <td>79.0</td>\n",
       "    </tr>\n",
       "    <tr>\n",
       "      <th>18</th>\n",
       "      <td>77.0</td>\n",
       "    </tr>\n",
       "    <tr>\n",
       "      <th>19</th>\n",
       "      <td>80.0</td>\n",
       "    </tr>\n",
       "    <tr>\n",
       "      <th>20</th>\n",
       "      <td>76.0</td>\n",
       "    </tr>\n",
       "    <tr>\n",
       "      <th>21</th>\n",
       "      <td>79.0</td>\n",
       "    </tr>\n",
       "    <tr>\n",
       "      <th>22</th>\n",
       "      <td>75.0</td>\n",
       "    </tr>\n",
       "    <tr>\n",
       "      <th>23</th>\n",
       "      <td>79.0</td>\n",
       "    </tr>\n",
       "    <tr>\n",
       "      <th>24</th>\n",
       "      <td>78.0</td>\n",
       "    </tr>\n",
       "    <tr>\n",
       "      <th>25</th>\n",
       "      <td>79.0</td>\n",
       "    </tr>\n",
       "    <tr>\n",
       "      <th>26</th>\n",
       "      <td>78.0</td>\n",
       "    </tr>\n",
       "    <tr>\n",
       "      <th>27</th>\n",
       "      <td>78.0</td>\n",
       "    </tr>\n",
       "    <tr>\n",
       "      <th>28</th>\n",
       "      <td>76.0</td>\n",
       "    </tr>\n",
       "    <tr>\n",
       "      <th>29</th>\n",
       "      <td>74.0</td>\n",
       "    </tr>\n",
       "    <tr>\n",
       "      <th>...</th>\n",
       "      <td>...</td>\n",
       "    </tr>\n",
       "    <tr>\n",
       "      <th>322</th>\n",
       "      <td>72.0</td>\n",
       "    </tr>\n",
       "    <tr>\n",
       "      <th>323</th>\n",
       "      <td>74.0</td>\n",
       "    </tr>\n",
       "    <tr>\n",
       "      <th>324</th>\n",
       "      <td>74.0</td>\n",
       "    </tr>\n",
       "    <tr>\n",
       "      <th>325</th>\n",
       "      <td>76.0</td>\n",
       "    </tr>\n",
       "    <tr>\n",
       "      <th>326</th>\n",
       "      <td>80.0</td>\n",
       "    </tr>\n",
       "    <tr>\n",
       "      <th>327</th>\n",
       "      <td>80.0</td>\n",
       "    </tr>\n",
       "    <tr>\n",
       "      <th>328</th>\n",
       "      <td>76.0</td>\n",
       "    </tr>\n",
       "    <tr>\n",
       "      <th>329</th>\n",
       "      <td>76.0</td>\n",
       "    </tr>\n",
       "    <tr>\n",
       "      <th>330</th>\n",
       "      <td>76.0</td>\n",
       "    </tr>\n",
       "    <tr>\n",
       "      <th>331</th>\n",
       "      <td>77.0</td>\n",
       "    </tr>\n",
       "    <tr>\n",
       "      <th>332</th>\n",
       "      <td>77.0</td>\n",
       "    </tr>\n",
       "    <tr>\n",
       "      <th>333</th>\n",
       "      <td>77.0</td>\n",
       "    </tr>\n",
       "    <tr>\n",
       "      <th>334</th>\n",
       "      <td>82.0</td>\n",
       "    </tr>\n",
       "    <tr>\n",
       "      <th>335</th>\n",
       "      <td>75.0</td>\n",
       "    </tr>\n",
       "    <tr>\n",
       "      <th>336</th>\n",
       "      <td>77.0</td>\n",
       "    </tr>\n",
       "    <tr>\n",
       "      <th>337</th>\n",
       "      <td>75.0</td>\n",
       "    </tr>\n",
       "    <tr>\n",
       "      <th>338</th>\n",
       "      <td>76.0</td>\n",
       "    </tr>\n",
       "    <tr>\n",
       "      <th>339</th>\n",
       "      <td>81.0</td>\n",
       "    </tr>\n",
       "    <tr>\n",
       "      <th>340</th>\n",
       "      <td>82.0</td>\n",
       "    </tr>\n",
       "    <tr>\n",
       "      <th>341</th>\n",
       "      <td>81.0</td>\n",
       "    </tr>\n",
       "    <tr>\n",
       "      <th>342</th>\n",
       "      <td>76.0</td>\n",
       "    </tr>\n",
       "    <tr>\n",
       "      <th>343</th>\n",
       "      <td>77.0</td>\n",
       "    </tr>\n",
       "    <tr>\n",
       "      <th>344</th>\n",
       "      <td>82.0</td>\n",
       "    </tr>\n",
       "    <tr>\n",
       "      <th>345</th>\n",
       "      <td>83.0</td>\n",
       "    </tr>\n",
       "    <tr>\n",
       "      <th>346</th>\n",
       "      <td>77.0</td>\n",
       "    </tr>\n",
       "    <tr>\n",
       "      <th>347</th>\n",
       "      <td>77.0</td>\n",
       "    </tr>\n",
       "    <tr>\n",
       "      <th>348</th>\n",
       "      <td>77.0</td>\n",
       "    </tr>\n",
       "    <tr>\n",
       "      <th>349</th>\n",
       "      <td>76.0</td>\n",
       "    </tr>\n",
       "    <tr>\n",
       "      <th>350</th>\n",
       "      <td>76.0</td>\n",
       "    </tr>\n",
       "    <tr>\n",
       "      <th>351</th>\n",
       "      <td>79.0</td>\n",
       "    </tr>\n",
       "  </tbody>\n",
       "</table>\n",
       "<p>352 rows × 1 columns</p>\n",
       "</div>"
      ],
      "text/plain": [
       "     temperature\n",
       "0           77.0\n",
       "1           77.0\n",
       "2           80.0\n",
       "3           80.0\n",
       "4           75.0\n",
       "5           73.0\n",
       "6           78.0\n",
       "7           77.0\n",
       "8           78.0\n",
       "9           80.0\n",
       "10          80.0\n",
       "11          78.0\n",
       "12          78.0\n",
       "13          78.0\n",
       "14          73.0\n",
       "15          74.0\n",
       "16          80.0\n",
       "17          79.0\n",
       "18          77.0\n",
       "19          80.0\n",
       "20          76.0\n",
       "21          79.0\n",
       "22          75.0\n",
       "23          79.0\n",
       "24          78.0\n",
       "25          79.0\n",
       "26          78.0\n",
       "27          78.0\n",
       "28          76.0\n",
       "29          74.0\n",
       "..           ...\n",
       "322         72.0\n",
       "323         74.0\n",
       "324         74.0\n",
       "325         76.0\n",
       "326         80.0\n",
       "327         80.0\n",
       "328         76.0\n",
       "329         76.0\n",
       "330         76.0\n",
       "331         77.0\n",
       "332         77.0\n",
       "333         77.0\n",
       "334         82.0\n",
       "335         75.0\n",
       "336         77.0\n",
       "337         75.0\n",
       "338         76.0\n",
       "339         81.0\n",
       "340         82.0\n",
       "341         81.0\n",
       "342         76.0\n",
       "343         77.0\n",
       "344         82.0\n",
       "345         83.0\n",
       "346         77.0\n",
       "347         77.0\n",
       "348         77.0\n",
       "349         76.0\n",
       "350         76.0\n",
       "351         79.0\n",
       "\n",
       "[352 rows x 1 columns]"
      ]
     },
     "execution_count": 91,
     "metadata": {},
     "output_type": "execute_result"
    }
   ],
   "source": [
    "# Query the last 12 months of temperature observation data for this station and plot the results as a histogram\n",
    "temperature_observations = session.query( Measurement.tobs).filter(Measurement.date >= one_year_ago).filter(Measurement.station == most_temps_station).all()\n",
    "temperature_observations = pd.DataFrame(temperature_observations, columns=['temperature'])\n",
    "temperature_observations"
   ]
  },
  {
   "cell_type": "code",
   "execution_count": 104,
   "metadata": {},
   "outputs": [
    {
     "data": {
      "image/png": "[encoded data removed]",
      "text/plain": [
       "<Figure size 1080x720 with 1 Axes>"
      ]
     },
     "metadata": {},
     "output_type": "display_data"
    }
   ],
   "source": [
    "# Choose the station with the highest number of temperature observations.\n",
    "# Query the last 12 months of temperature observation data for this station and plot the results as a histogram\n",
    "# Plot the results as a histogram with bins=12.\n",
    "fig2 = plt.figure(figsize=(15,10))\n",
    "plt.grid(True)\n",
    "\n",
    "\n",
    "temp_intel_df = pd.DataFrame(temperature_intel)\n",
    "plt.hist(temp_intel_df['tobs'])\n",
    "bin_size = 12\n",
    "\n",
    "\n",
    "plt.xlabel(\"Recorded Temperatures\")\n",
    "plt.ylabel(\"Frequency\")\n",
    "plt.title(\"Temperature Vs Frequency\")\n",
    "\n",
    "\n",
    "\n",
    "plt.legend ([\"tobs\"])\n",
    "\n",
    "plt.savefig(\"Images/Highest_Recorded_Observations.png\")\n",
    "plt.show()\n",
    "\n"
   ]
  },
  {
   "cell_type": "markdown",
   "metadata": {},
   "source": [
    "![precipitation](Images/station-histogram.png)"
   ]
  },
  {
   "cell_type": "markdown",
   "metadata": {},
   "source": [
    "Step 2 - Climate App"
   ]
  },
  {
   "cell_type": "code",
   "execution_count": null,
   "metadata": {},
   "outputs": [],
   "source": []
  },
  {
   "cell_type": "code",
   "execution_count": null,
   "metadata": {},
   "outputs": [],
   "source": []
  },
  {
   "cell_type": "code",
   "execution_count": null,
   "metadata": {},
   "outputs": [],
   "source": []
  },
  {
   "cell_type": "markdown",
   "metadata": {},
   "source": [
    "# Optional: Other Recommended Analyses\n",
    "\n",
    "\n",
    "The following are optional challenge queries. These are highly recommended to attempt, but not required for the homework.\n",
    "\n",
    "\n",
    "\n",
    "Temperature Analysis\n",
    "\n",
    "\n",
    "The starter notebook contains a function called calc_temps that will accept a start date and end date in the format %Y-%m-%d and return the minimum, average, and maximum temperatures for that range of dates.\n",
    "Use the calc_temps function to calculate the min, avg, and max temperatures for your trip using the matching dates from the previous year (i.e., use \"2017-01-01\" if your trip start date was \"2018-01-01\").\n",
    "\n",
    "Plot the min, avg, and max temperature from your previous query as a bar chart.\n",
    "\n",
    "\n",
    "Use the average temperature as the bar height.\n",
    "Use the peak-to-peak (tmax-tmin) value as the y error bar (yerr)."
   ]
  },
  {
   "cell_type": "code",
   "execution_count": 101,
   "metadata": {},
   "outputs": [
    {
     "name": "stdout",
     "output_type": "stream",
     "text": [
      "[(62.0, 69.57142857142857, 74.0)]\n"
     ]
    }
   ],
   "source": [
    "# This function called `calc_temps` will accept start date and end date in the format '%Y-%m-%d' \n",
    "# and return the minimum, average, and maximum temperatures for that range of dates\n",
    "def calc_temps(start_date, end_date):\n",
    "    \"\"\"TMIN, TAVG, and TMAX for a list of dates.\n",
    "    \n",
    "    Args:\n",
    "        start_date (string): A date string in the format %Y-%m-%d\n",
    "        end_date (string): A date string in the format %Y-%m-%d\n",
    "        \n",
    "    Returns:\n",
    "        TMIN, TAVE, and TMAX\n",
    "    \"\"\"\n",
    "    \n",
    "    return session.query(func.min(Measurement.tobs), func.avg(Measurement.tobs), func.max(Measurement.tobs)).\\\n",
    "        filter(Measurement.date >= start_date).filter(Measurement.date <= end_date).all()\n",
    "\n",
    "# function usage example\n",
    "print(calc_temps('2012-02-28', '2012-03-05'))"
   ]
  },
  {
   "cell_type": "code",
   "execution_count": 102,
   "metadata": {},
   "outputs": [
    {
     "data": {
      "text/plain": [
       "[(69.0, 78.11627906976744, 87.0)]"
      ]
     },
     "execution_count": 102,
     "metadata": {},
     "output_type": "execute_result"
    }
   ],
   "source": [
    "# Use your previous function `calc_temps` to calculate the tmin, tavg, and tmax \n",
    "# for your trip using the previous year's data for those same dates.\n",
    "\n",
    "trip = calc_temps('2017-07-01','2017-07-14')\n",
    "trip"
   ]
  },
  {
   "cell_type": "code",
   "execution_count": 103,
   "metadata": {},
   "outputs": [
    {
     "data": {
      "image/png": "[encoded data removed]",
      "text/plain": [
       "<Figure size 288x432 with 1 Axes>"
      ]
     },
     "metadata": {},
     "output_type": "display_data"
    }
   ],
   "source": [
    "# Plot the results from your previous query as a bar chart. \n",
    "# Use \"Trip Avg Temp\" as your Title\n",
    "# Use the average temperature for the y value\n",
    "# Use the peak-to-peak (tmax-tmin) value as the y error bar (yerr)\n",
    "\n",
    "\n",
    "trip_temp_df = pd.DataFrame(trip, columns=['tmin', 'tavg', 'tmax'])\n",
    "\n",
    "\n",
    "# Plot the results from your previous query as a bar chart. \n",
    "# Use \"Trip Avg Temp\" as your Title\n",
    "# Use the average temperature for the y value\n",
    "# Use the peak-to-peak (tmax-tmin) value as the y error bar (yerr)\n",
    "trip_temp_df.plot.bar(y='tavg', yerr=(trip_temp_df['tmax'] - trip_temp_df['tmin']), title='Trip Avg Temp', color='coral', alpha=0.5, figsize=(4,6))\n",
    "\n",
    "plt.xticks(np.arange(1, 1.0))\n",
    "plt.ylabel(\"Temp (F)\")\n",
    "plt.tight_layout()\n",
    "plt.gca().legend_.remove()\n",
    "plt.savefig(\"Images/TripAvgTemp.png\")\n",
    "plt.show()"
   ]
  },
  {
   "cell_type": "code",
   "execution_count": null,
   "metadata": {},
   "outputs": [],
   "source": [
    "# Calculate the total amount of rainfall per weather station for your trip dates using the previous year's matching dates.\n",
    "# Sort this in descending order by precipitation amount and list the station, name, latitude, longitude, and elevation\n",
    "\n"
   ]
  },
  {
   "cell_type": "markdown",
   "metadata": {},
   "source": [
    "## Optional Challenge Assignment"
   ]
  },
  {
   "cell_type": "code",
   "execution_count": 99,
   "metadata": {},
   "outputs": [
    {
     "data": {
      "text/plain": [
       "[(62.0, 69.15384615384616, 77.0)]"
      ]
     },
     "execution_count": 99,
     "metadata": {},
     "output_type": "execute_result"
    }
   ],
   "source": [
    "# Create a query that will calculate the daily normals \n",
    "# (i.e. the averages for tmin, tmax, and tavg for all historic data matching a specific month and day)\n",
    "\n",
    "def daily_normals(date):\n",
    "    \"\"\"Daily Normals.\n",
    "    \n",
    "    Args:\n",
    "        date (str): A date string in the format '%m-%d'\n",
    "        \n",
    "    Returns:\n",
    "        A list of tuples containing the daily normals, tmin, tavg, and tmax\n",
    "    \n",
    "    \"\"\"\n",
    "    \n",
    "    sel = [func.min(Measurement.tobs), func.avg(Measurement.tobs), func.max(Measurement.tobs)]\n",
    "    return session.query(*sel).filter(func.strftime(\"%m-%d\", Measurement.date) == date).all()\n",
    "    \n",
    "daily_normals(\"01-01\")"
   ]
  },
  {
   "cell_type": "code",
   "execution_count": 100,
   "metadata": {},
   "outputs": [],
   "source": [
    "# calculate the daily normals for your trip\n",
    "# push each tuple of calculations into a list called `normals`\n",
    "\n",
    "# Set the start and end date of the trip\n",
    "start_date = '2017-07-01'\n",
    "end_date ='2017-07-14'\n",
    "\n",
    "# Use the start and end date to create a range of dates\n",
    "dates = session.query(Measurement.date).filter(Measurement.date >= start_date).filter(Measurement.date <= end_date).group_by(Measurement.date).all()\n",
    "\n",
    "trip_dates = [x[0] for x in dates]\n",
    "\n",
    "\n",
    "# Stip off the year and save a list of %m-%d strings\n",
    "trip_dates_stripped= [x[5:] for x in trip_dates]\n",
    "\n",
    "\n",
    "\n",
    "# Loop through the list of %m-%d strings and calculate the normals for each date\n",
    "\n",
    "\n",
    "\n"
   ]
  },
  {
   "cell_type": "code",
   "execution_count": null,
   "metadata": {},
   "outputs": [],
   "source": [
    "# Load the previous query results into a Pandas DataFrame and add the `trip_dates` range as the `date` index\n"
   ]
  },
  {
   "cell_type": "code",
   "execution_count": null,
   "metadata": {},
   "outputs": [],
   "source": [
    "# Plot the daily normals as an area plot with `stacked=False`\n"
   ]
  }
 ],
 "metadata": {
  "kernel_info": {
   "name": "python3"
  },
  "kernelspec": {
   "display_name": "Python 3",
   "language": "python",
   "name": "python3"
  },
  "language_info": {
   "codemirror_mode": {
    "name": "ipython",
    "version": 3
   },
   "file_extension": ".py",
   "mimetype": "text/x-python",
   "name": "python",
   "nbconvert_exporter": "python",
   "pygments_lexer": "ipython3",
   "version": "3.6.8"
  },
  "nteract": {
   "version": "0.12.3"
  },
  "varInspector": {
   "cols": {
    "lenName": 16,
    "lenType": 16,
    "lenVar": 40
   },
   "kernels_config": {
    "python": {
     "delete_cmd_postfix": "",
     "delete_cmd_prefix": "del ",
     "library": "var_list.py",
     "varRefreshCmd": "print(var_dic_list())"
    },
    "r": {
     "delete_cmd_postfix": ") ",
     "delete_cmd_prefix": "rm(",
     "library": "var_list.r",
     "varRefreshCmd": "cat(var_dic_list()) "
    }
   },
   "types_to_exclude": [
    "module",
    "function",
    "builtin_function_or_method",
    "instance",
    "_Feature"
   ],
   "window_display": false
  }
 },
 "nbformat": 4,
 "nbformat_minor": 2
}
